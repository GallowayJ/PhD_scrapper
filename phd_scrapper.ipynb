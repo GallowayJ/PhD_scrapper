{
 "metadata": {
  "name": "phd_scrapper.ipynb"
 },
 "nbformat": 3,
 "nbformat_minor": 0,
 "worksheets": [
  {
   "cells": [
    {
     "cell_type": "code",
     "collapsed": false,
     "input": [
      "from lxml import etree\n",
      "from io import StringIO, BytesIO\n",
      "import lxml"
     ],
     "language": "python",
     "metadata": {},
     "outputs": [],
     "prompt_number": 14
    },
    {
     "cell_type": "code",
     "collapsed": false,
     "input": [
      "test_url = \"http://ec.europa.eu/euraxess/index.cfm/jobs/jobDetails/33953431\"\n",
      "r = requests.get(test_url)"
     ],
     "language": "python",
     "metadata": {},
     "outputs": [],
     "prompt_number": 4
    },
    {
     "cell_type": "code",
     "collapsed": false,
     "input": [
      "import requests\n",
      "import re\n",
      "from bs4 import BeautifulSoup"
     ],
     "language": "python",
     "metadata": {},
     "outputs": [],
     "prompt_number": 2
    },
    {
     "cell_type": "code",
     "collapsed": false,
     "input": [
      "#url = \"http://ec.europa.eu/euraxess/index.cfm/jobs/jvSearch\"\n",
      "url = \"http://ec.europa.eu/research/mariecurieactions/apply-now/jobs-for-you/index_en.htm\"\n",
      "r = requests.get(url)\n",
      "soup = BeautifulSoup(r.content)"
     ],
     "language": "python",
     "metadata": {},
     "outputs": [],
     "prompt_number": 2
    },
    {
     "cell_type": "code",
     "collapsed": false,
     "input": [
      "list_of_urls = []"
     ],
     "language": "python",
     "metadata": {},
     "outputs": [],
     "prompt_number": 14
    },
    {
     "cell_type": "code",
     "collapsed": false,
     "input": [
      "def get_links(start_url):\n",
      "    for link in soup.find_all(\"a\", href=re.compile(\"jobDetails\"), text=re.compile(\"PhD\")):\n",
      "        list_of_urls.append(link.get(\"href\"))\n",
      "        print link.get(\"href\"), link.text\n",
      "    return list_of_urls.append(link.get(\"href\"))"
     ],
     "language": "python",
     "metadata": {},
     "outputs": [],
     "prompt_number": 19
    },
    {
     "cell_type": "code",
     "collapsed": false,
     "input": [
      "get_links(url)"
     ],
     "language": "python",
     "metadata": {},
     "outputs": [
      {
       "output_type": "stream",
       "stream": "stdout",
       "text": [
        "http://ec.europa.eu/euraxess/index.cfm/jobs/jobDetails/33953431 PhD position Biology\n",
        "http://ec.europa.eu/euraxess/index.cfm/jobs/jobDetails/33953422 PhD - Marie Curie Fellow in Robotics (m/f)\n",
        "http://ec.europa.eu/euraxess/index.cfm/jobs/jobDetails/33953395 PhD Position in Microelectronics\n",
        "http://ec.europa.eu/euraxess/index.cfm/jobs/jobDetails/33953394 PhD Position in Micro-electronics\n",
        "http://ec.europa.eu/euraxess/index.cfm/jobs/jobDetails/33953393 PhD Position in Microelectronics\n",
        "http://ec.europa.eu/euraxess/index.cfm/jobs/jobDetails/33953106 PhD position in PDE or calculus of variation\n",
        "http://ec.europa.eu/euraxess/index.cfm/jobs/jobDetails/33952801 Digital Pathology - Biomedical Engineering - Computer Science. PhD Full Time under Marie Curie IAPP Action-AIDPATH Project, BARCO (BE)\n",
        "http://ec.europa.eu/euraxess/index.cfm/jobs/jobDetails/33952328 PhD position available - Synthesis of 2D semiconductor colloidal nanostructures\n",
        "http://ec.europa.eu/euraxess/index.cfm/jobs/jobDetails/33952327 PhD position available -Phonsi\n",
        "http://ec.europa.eu/euraxess/index.cfm/jobs/jobDetails/33952326 PhD position available  Smart Nanocrystal-Matrix Composites\n",
        "http://ec.europa.eu/euraxess/index.cfm/jobs/jobDetails/33952324 PhD position available  Nanostructured 2-D semiconductors based on self-assembly of PbX or MPbX3 perovskite nanocrystals, for opto-electronic applications\n",
        "http://ec.europa.eu/euraxess/index.cfm/jobs/jobDetails/33952323 PhD position - Towards photochemically stable and bright single quantum dots of III-V compounds\n",
        "http://ec.europa.eu/euraxess/index.cfm/jobs/jobDetails/33952319 PhD Position - Quantum Dots for nearly tresholdless gain\n",
        "http://ec.europa.eu/euraxess/index.cfm/jobs/jobDetails/33951923 Microwave NanoTechnology PhD researcher position\n",
        "http://ec.europa.eu/euraxess/index.cfm/jobs/jobDetails/33950928 One (1) PhD Candidate Position (Ref. Number.: 2552)\n",
        "http://ec.europa.eu/euraxess/index.cfm/jobs/jobDetails/33950913 PhD Position in Computer Science (Cloud Computing)\n",
        "http://ec.europa.eu/euraxess/index.cfm/jobs/jobDetails/33950578 PhD (Early Stage Researcher) position as part of the Marie Curie ITN project CERMAT2 ''New ceramic technologies and novel multifunctional ceramic devices and structures''  ESR8 PhD Title: Development of inverse analysis procedure for multi-scale characterization of advanced ceramic materials.\n",
        "http://ec.europa.eu/euraxess/index.cfm/jobs/jobDetails/33949366 PhD on Immunoregulation in the Pathogenesis and Resolution\n",
        "http://ec.europa.eu/euraxess/index.cfm/jobs/jobDetails/33948327 PhD Position in Modeling Soil-Structure Interaction\n",
        "http://ec.europa.eu/euraxess/index.cfm/jobs/jobDetails/33948189 PhD Position in Computer Science (Cloud Computing)\n",
        "http://ec.europa.eu/euraxess/index.cfm/jobs/jobDetails/33948168 PhD Position in Computer Science (Cloud Computing)\n",
        "http://ec.europa.eu/euraxess/index.cfm/jobs/jobDetails/33948040 PhD Position in Computer Science (Cloud Computing)\n",
        "http://ec.europa.eu/euraxess/index.cfm/jobs/jobDetails/33948038 PhD Position in Computer Science (Datacenter Networking)\n",
        "http://ec.europa.eu/euraxess/index.cfm/jobs/jobDetails/33941161 Digital Pathology - Anatomical Pathology PhD under Marie Curie A ction IAPP Project. Medical, Biological, Pharmacological Sciences.\n",
        "http://ec.europa.eu/euraxess/index.cfm/jobs/jobDetails/33939410 PhD position (Early Stage Researcher) \"ESR1\" for research project \"SIMDALEE2\" (Sources, Interaction with Matter, Detection and Analysis of Low Energy Electrons)\n",
        "http://ec.europa.eu/euraxess/index.cfm/jobs/jobDetails/33927821 PhD position (Early Stage Researcher) \"ESR10\" for research project \"SIMDALEE2\" (Sources, Interaction with Matter, Detection and Analysis of Low Energy Electrons)\n",
        "http://ec.europa.eu/euraxess/index.cfm/jobs/jobDetails/33927818 PhD position (Early Stage Researcher) \"ESR9\" for research project \"SIMDALEE2\" (Sources, Interaction with Matter, Detection and Analysis of Low Energy Electrons)\n",
        "http://ec.europa.eu/euraxess/index.cfm/jobs/jobDetails/33927816 PhD position (Early Stage Researcher) \"ESR8\" for research project \"SIMDALEE2\" (Sources, Interaction with Matter, Detection and Analysis of Low Energy Electrons)\n",
        "http://ec.europa.eu/euraxess/index.cfm/jobs/jobDetails/33927802 PhD position (Early Stage Researcher) \"ESR7\" for research project \"SIMDALEE2\" (Sources, Interaction with Matter, Detection and Analysis of Low Energy Electrons)\n",
        "http://ec.europa.eu/euraxess/index.cfm/jobs/jobDetails/33927271 PhD position (Early Stage Researcher) \"ESR6\" for research project \"SIMDALEE2\" (Sources, Interaction with Matter, Detection and Analysis of Low Energy Electrons)\n",
        "http://ec.europa.eu/euraxess/index.cfm/jobs/jobDetails/33927255 PhD position (Early Stage Researcher) \"ESR5\" for research project \"SIMDALEE2\" (Sources, Interaction with Matter, Detection and Analysis of Low Energy Electrons)\n",
        "http://ec.europa.eu/euraxess/index.cfm/jobs/jobDetails/33927221 PhD position (Early Stage Researcher) \"ESR4\" for research project \"SIMDALEE2\" (Sources, Interaction with Matter, Detection and Analysis of Low Energy Electrons)\n",
        "http://ec.europa.eu/euraxess/index.cfm/jobs/jobDetails/33926800 PhD position (Early Stage Researcher) \"ESR3\" for research project \"SIMDALEE2\" (Sources, Interaction with Matter, Detection and Analysis of Low Energy Electrons)\n",
        "http://ec.europa.eu/euraxess/index.cfm/jobs/jobDetails/33918182 PhD position: A single ion interacting with ultracold atoms\n",
        "http://ec.europa.eu/euraxess/index.cfm/jobs/jobDetails/33913665 PhD student (ESR in Int. Training Network): Quantum manipulation of single molecular ions and precision spectroscopy\n",
        "http://ec.europa.eu/euraxess/index.cfm/jobs/jobDetails/33913298 test PhD position (Early Stage Researcher) \"ESR1\" for research project \"SIMDALEE2\" (Sources, Interaction with Matter, Detection and Analysis of Low Energy Electrons)\n",
        "http://ec.europa.eu/euraxess/index.cfm/jobs/jobDetails/33913271 PhD position (Early Stage Researcher) \"ESR2\" for research project \"SIMDALEE2\" (Sources, Interaction with Matter, Detection and Analysis of Low Energy Electrons)\n"
       ]
      }
     ],
     "prompt_number": 20
    },
    {
     "cell_type": "code",
     "collapsed": false,
     "input": [
      "print list_of_urls"
     ],
     "language": "python",
     "metadata": {},
     "outputs": [
      {
       "output_type": "stream",
       "stream": "stdout",
       "text": [
        "['http://ec.europa.eu/euraxess/index.cfm/jobs/jobDetails/33913271', 'http://ec.europa.eu/euraxess/index.cfm/jobs/jobDetails/33953431', 'http://ec.europa.eu/euraxess/index.cfm/jobs/jobDetails/33953422', 'http://ec.europa.eu/euraxess/index.cfm/jobs/jobDetails/33953395', 'http://ec.europa.eu/euraxess/index.cfm/jobs/jobDetails/33953394', 'http://ec.europa.eu/euraxess/index.cfm/jobs/jobDetails/33953393', 'http://ec.europa.eu/euraxess/index.cfm/jobs/jobDetails/33953106', 'http://ec.europa.eu/euraxess/index.cfm/jobs/jobDetails/33952801', 'http://ec.europa.eu/euraxess/index.cfm/jobs/jobDetails/33952328', 'http://ec.europa.eu/euraxess/index.cfm/jobs/jobDetails/33952327', 'http://ec.europa.eu/euraxess/index.cfm/jobs/jobDetails/33952326', 'http://ec.europa.eu/euraxess/index.cfm/jobs/jobDetails/33952324', 'http://ec.europa.eu/euraxess/index.cfm/jobs/jobDetails/33952323', 'http://ec.europa.eu/euraxess/index.cfm/jobs/jobDetails/33952319', 'http://ec.europa.eu/euraxess/index.cfm/jobs/jobDetails/33951923', 'http://ec.europa.eu/euraxess/index.cfm/jobs/jobDetails/33950928', 'http://ec.europa.eu/euraxess/index.cfm/jobs/jobDetails/33950913', 'http://ec.europa.eu/euraxess/index.cfm/jobs/jobDetails/33950578', 'http://ec.europa.eu/euraxess/index.cfm/jobs/jobDetails/33949366', 'http://ec.europa.eu/euraxess/index.cfm/jobs/jobDetails/33948327', 'http://ec.europa.eu/euraxess/index.cfm/jobs/jobDetails/33948189', 'http://ec.europa.eu/euraxess/index.cfm/jobs/jobDetails/33948168', 'http://ec.europa.eu/euraxess/index.cfm/jobs/jobDetails/33948040', 'http://ec.europa.eu/euraxess/index.cfm/jobs/jobDetails/33948038', 'http://ec.europa.eu/euraxess/index.cfm/jobs/jobDetails/33941161', 'http://ec.europa.eu/euraxess/index.cfm/jobs/jobDetails/33939410', 'http://ec.europa.eu/euraxess/index.cfm/jobs/jobDetails/33927821', 'http://ec.europa.eu/euraxess/index.cfm/jobs/jobDetails/33927818', 'http://ec.europa.eu/euraxess/index.cfm/jobs/jobDetails/33927816', 'http://ec.europa.eu/euraxess/index.cfm/jobs/jobDetails/33927802', 'http://ec.europa.eu/euraxess/index.cfm/jobs/jobDetails/33927271', 'http://ec.europa.eu/euraxess/index.cfm/jobs/jobDetails/33927255', 'http://ec.europa.eu/euraxess/index.cfm/jobs/jobDetails/33927221', 'http://ec.europa.eu/euraxess/index.cfm/jobs/jobDetails/33926800', 'http://ec.europa.eu/euraxess/index.cfm/jobs/jobDetails/33918182', 'http://ec.europa.eu/euraxess/index.cfm/jobs/jobDetails/33913665', 'http://ec.europa.eu/euraxess/index.cfm/jobs/jobDetails/33913298', 'http://ec.europa.eu/euraxess/index.cfm/jobs/jobDetails/33913271', 'http://ec.europa.eu/euraxess/index.cfm/jobs/jobDetails/33913271']\n"
       ]
      }
     ],
     "prompt_number": 21
    },
    {
     "cell_type": "code",
     "collapsed": false,
     "input": [
      "def scrape_job_info(listOfUrls):\n",
      "    for jobLink in listOfUrls:\n",
      "        "
     ],
     "language": "python",
     "metadata": {},
     "outputs": []
    },
    {
     "cell_type": "code",
     "collapsed": false,
     "input": [
      "test_url = \"http://ec.europa.eu/euraxess/index.cfm/jobs/jobDetails/33953431\"\n",
      "r = requests.get(test_url)\n",
      "soup = BeautifulSoup(r.content)"
     ],
     "language": "python",
     "metadata": {},
     "outputs": [],
     "prompt_number": 60
    },
    {
     "cell_type": "code",
     "collapsed": false,
     "input": [
      "for link in soup.find_all([\"h2\",\"h3\"]):\n",
      "    for link in link.find('p'):\n",
      "        print links.text()\n",
      "    print link.get_text()"
     ],
     "language": "python",
     "metadata": {},
     "outputs": [
      {
       "ename": "TypeError",
       "evalue": "'NoneType' object is not iterable",
       "output_type": "pyerr",
       "traceback": [
        "\u001b[1;31m---------------------------------------------------------------------------\u001b[0m\n\u001b[1;31mTypeError\u001b[0m                                 Traceback (most recent call last)",
        "\u001b[1;32m<ipython-input-65-d6ee8ffd98a4>\u001b[0m in \u001b[0;36m<module>\u001b[1;34m()\u001b[0m\n\u001b[0;32m      1\u001b[0m \u001b[1;32mfor\u001b[0m \u001b[0mlink\u001b[0m \u001b[1;32min\u001b[0m \u001b[0msoup\u001b[0m\u001b[1;33m.\u001b[0m\u001b[0mfind_all\u001b[0m\u001b[1;33m(\u001b[0m\u001b[1;33m[\u001b[0m\u001b[1;34m\"h2\"\u001b[0m\u001b[1;33m,\u001b[0m\u001b[1;34m\"h3\"\u001b[0m\u001b[1;33m]\u001b[0m\u001b[1;33m)\u001b[0m\u001b[1;33m:\u001b[0m\u001b[1;33m\u001b[0m\u001b[0m\n\u001b[1;32m----> 2\u001b[1;33m     \u001b[1;32mfor\u001b[0m \u001b[0mlink\u001b[0m \u001b[1;32min\u001b[0m \u001b[0mlink\u001b[0m\u001b[1;33m.\u001b[0m\u001b[0mfind\u001b[0m\u001b[1;33m(\u001b[0m\u001b[1;34m'p'\u001b[0m\u001b[1;33m)\u001b[0m\u001b[1;33m:\u001b[0m\u001b[1;33m\u001b[0m\u001b[0m\n\u001b[0m\u001b[0;32m      3\u001b[0m         \u001b[1;32mprint\u001b[0m \u001b[0mlinks\u001b[0m\u001b[1;33m.\u001b[0m\u001b[0mtext\u001b[0m\u001b[1;33m(\u001b[0m\u001b[1;33m)\u001b[0m\u001b[1;33m\u001b[0m\u001b[0m\n\u001b[0;32m      4\u001b[0m     \u001b[1;32mprint\u001b[0m \u001b[0mlink\u001b[0m\u001b[1;33m.\u001b[0m\u001b[0mget_text\u001b[0m\u001b[1;33m(\u001b[0m\u001b[1;33m)\u001b[0m\u001b[1;33m\u001b[0m\u001b[0m\n",
        "\u001b[1;31mTypeError\u001b[0m: 'NoneType' object is not iterable"
       ]
      }
     ],
     "prompt_number": 65
    }
   ],
   "metadata": {}
  }
 ]
}