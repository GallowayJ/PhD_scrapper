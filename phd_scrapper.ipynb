{
 "metadata": {
  "name": "phd_scrapper.ipynb"
 },
 "nbformat": 3,
 "nbformat_minor": 0,
 "worksheets": [
  {
   "cells": [
    {
     "cell_type": "code",
     "collapsed": false,
     "input": [
      "import requests\n",
      "import re\n",
      "from bs4 import BeautifulSoup"
     ],
     "language": "python",
     "metadata": {},
     "outputs": [],
     "prompt_number": 12
    },
    {
     "cell_type": "code",
     "collapsed": false,
     "input": [
      "#url = \"http://ec.europa.eu/euraxess/index.cfm/jobs/jvSearch\"\n",
      "url = \"http://ec.europa.eu/research/mariecurieactions/apply-now/jobs-for-you/index_en.htm\"\n",
      "r = requests.get(url)\n",
      "soup = BeautifulSoup(r.content)"
     ],
     "language": "python",
     "metadata": {},
     "outputs": [],
     "prompt_number": 13
    },
    {
     "cell_type": "code",
     "collapsed": false,
     "input": [
      "list_of_urls = []"
     ],
     "language": "python",
     "metadata": {},
     "outputs": [],
     "prompt_number": 14
    },
    {
     "cell_type": "code",
     "collapsed": false,
     "input": [
      "def get_links(start_url):\n",
      "    for link in soup.find_all(\"a\", href=re.compile(\"jobDetails\"), text=re.compile(\"PhD\")):\n",
      "        list_of_urls.append(link.get(\"href\"))\n",
      "        print link.get(\"href\"), link.text\n",
      "    return list_of_urls.append(link.get(\"href\"))"
     ],
     "language": "python",
     "metadata": {},
     "outputs": [],
     "prompt_number": 15
    },
    {
     "cell_type": "code",
     "collapsed": false,
     "input": [
      "listOfJobDesc = []"
     ],
     "language": "python",
     "metadata": {},
     "outputs": [],
     "prompt_number": 26
    },
    {
     "cell_type": "code",
     "collapsed": false,
     "input": [
      "\n",
      "listOfTags = [\"<html>\", \"</html>\", \"<body>\",\"</body>\", \"<p>\", \"</p>\",\"<br/>\"]\n",
      "\n",
      "def replace_func(string, old, new):\n",
      "    return string.replace(old,new)\n",
      "def remove_tags(soup, listOfTags):\n",
      "    description = soup\n",
      "    for tag in listOfTags:\n",
      "        temp = temp.replace(tag,'')\n",
      "    return description.strip()\n",
      "\n",
      "def get_job_descriptions(listOfUrls):\n",
      "    \n",
      "    for jobUrl in listOfUrls:\n",
      "        \n",
      "        r = requests.get(jobUrl)\n",
      "        soup = BeautifulSoup(r.content)\n",
      "        for link in soup.find_all(\"h2\"):\n",
      "            \n",
      "            desc_string = str(link.find_next_sibling())\n",
      "        desc_formatted = BeautifulSoup(desc_string).prettify()\n",
      "        listOfJobDesc.append(desc_formatted)\n",
      "    return listOfJobDesc\n",
      "get_job_descriptions(list_of_urls)"
     ],
     "language": "python",
     "metadata": {},
     "outputs": [
      {
       "metadata": {},
       "output_type": "pyout",
       "prompt_number": 34,
       "text": [
        "['desc_formatted',\n",
        " 'desc_formatted',\n",
        " 'desc_formatted',\n",
        " 'desc_formatted',\n",
        " 'desc_formatted',\n",
        " 'desc_formatted',\n",
        " 'desc_formatted',\n",
        " 'desc_formatted',\n",
        " 'desc_formatted',\n",
        " 'desc_formatted',\n",
        " 'desc_formatted',\n",
        " 'desc_formatted',\n",
        " 'desc_formatted',\n",
        " 'desc_formatted',\n",
        " 'desc_formatted',\n",
        " 'desc_formatted',\n",
        " 'desc_formatted',\n",
        " 'desc_formatted',\n",
        " 'desc_formatted',\n",
        " 'desc_formatted',\n",
        " 'desc_formatted',\n",
        " 'desc_formatted',\n",
        " 'desc_formatted',\n",
        " 'desc_formatted',\n",
        " 'desc_formatted',\n",
        " 'desc_formatted',\n",
        " 'desc_formatted',\n",
        " 'desc_formatted',\n",
        " 'desc_formatted',\n",
        " 'desc_formatted',\n",
        " 'desc_formatted',\n",
        " 'desc_formatted',\n",
        " 'desc_formatted',\n",
        " 'desc_formatted',\n",
        " 'desc_formatted',\n",
        " 'desc_formatted',\n",
        " 'desc_formatted',\n",
        " 'desc_formatted',\n",
        " u'<html>\\n <body>\\n  <p>\\n   Detailed job description will be soon available and advertised on\\n   <br/>\\n   www.findaphd.com\\n   <br/>\\n   Interested candidates are strongly advised to contact Prof Resmini prior to applying\\n  </p>\\n </body>\\n</html>',\n",
        " u'<html>\\n <body>\\n  <p>\\n   High-throughput screening of stem cells is instrumental for biological research and discovery of new drugs. However, current methods for high-throughput cell screenings are limited and expensive. Screening of single cells is especially challenging.\\n   <br/>\\n   Recently we demonstrated that superhydrophobic-superhydrophilic microarrays can be used to create ultra high-density patterns of microdroplets (DropletMicroarrays). This method has the potential to become a new platform for ultra high-throughput screening of live cells and could allow hundreds of thousands of cell experiments to be performed in parallel using a single chip. Defined locations of isolated droplet microreservoirs on such chips will enable spatial indexing, time-lapse measurements and screening of single cells.\\n   <br/>\\n   The goal of this PhD project is to exploit the ability to perform ultra high-throughput screening of single cells in thousands of droplet microreservoirs. A range of important biological questions can be tackled using this novel technology. Therefore, creativity, scientific excellence, the ability to work in a highly interdisciplinary team will be the main qualities for a candidate for this position.\\n   <br/>\\n   We are looking for innovative, determined and ambitious students with many ideas. Once accepted in the group, the candidate will get access to all necessary equipment and consumables to work on the project. Office and lab space as well as access to the excellent infrastructure of the KIT will be provided. In addition, all students will be enrolled in the International Biointerfaces Graduate School at the KIT.\\n   <br/>\\n   Applications (CV and a cover letter explaining why you qualify for this project) should be sent to info@levkingroup.com indicating \\u201cPhD-cell screening\\u201d in the subject.\\n   <br/>\\n   www.levkingroup.com\\n  </p>\\n </body>\\n</html>',\n",
        " u'<html>\\n <body>\\n  <table cellpadding=\"0\" cellspacing=\"0\" summary=\"Required Research Experiences\">\\n   <caption>\\n    Required Research Experiences\\n   </caption>\\n   <tbody>\\n    <tr>\\n     <th class=\"fixSize\" scope=\"row\">\\n      Main Research Field\\n     </th>\\n     <td>\\n      Agricultural sciences\\n     </td>\\n    </tr>\\n    <tr>\\n     <th class=\"fixSize\" scope=\"row\">\\n      Sub Research Field\\n     </th>\\n     <td>\\n      Agricultural products\\n     </td>\\n    </tr>\\n   </tbody>\\n  </table>\\n </body>\\n</html>',\n",
        " u'<html>\\n <body>\\n  <table cellpadding=\"0\" cellspacing=\"0\" summary=\"Required Research Experiences\">\\n   <caption>\\n    Required Research Experiences\\n   </caption>\\n   <tbody>\\n   </tbody>\\n  </table>\\n </body>\\n</html>',\n",
        " u'<html>\\n <body>\\n  <table cellpadding=\"0\" cellspacing=\"0\" summary=\"Required Research Experiences\">\\n   <caption>\\n    Required Research Experiences\\n   </caption>\\n   <tbody>\\n   </tbody>\\n  </table>\\n </body>\\n</html>',\n",
        " u'<html>\\n <body>\\n  <table cellpadding=\"0\" cellspacing=\"0\" summary=\"Required Research Experiences\">\\n   <caption>\\n    Required Research Experiences\\n   </caption>\\n   <tbody>\\n   </tbody>\\n  </table>\\n </body>\\n</html>',\n",
        " u'<html>\\n <body>\\n  <p>\\n   The envisaged starting date is january 2015-february 2015\\n  </p>\\n </body>\\n</html>',\n",
        " u'<html>\\n <body>\\n  <p>\\n   Informal enquiries should be directed to Mr. Bastian Piepers Bastian.Piepers@barco.com\\n   <br/>\\n   <br/>\\n   http://www.barco.com/nl/markets/healthcare\\n  </p>\\n </body>\\n</html>',\n",
        " u'<html>\\n <body>\\n  <table cellpadding=\"0\" cellspacing=\"0\" summary=\"Required Languages\">\\n   <caption>\\n    Required Languages\\n   </caption>\\n   <tbody>\\n    <tr>\\n     <th class=\"fixSize\" scope=\"row\">\\n      Language\\n     </th>\\n     <td>\\n      ENGLISH\\n     </td>\\n    </tr>\\n    <tr>\\n     <th class=\"fixSize\" scope=\"row\">\\n      Language Level\\n     </th>\\n     <td>\\n      Excellent\\n     </td>\\n    </tr>\\n   </tbody>\\n  </table>\\n </body>\\n</html>',\n",
        " u'<html>\\n <body>\\n  <table cellpadding=\"0\" cellspacing=\"0\" summary=\"Required Languages\">\\n   <caption>\\n    Required Languages\\n   </caption>\\n   <tbody>\\n    <tr>\\n     <th class=\"fixSize\" scope=\"row\">\\n      Language\\n     </th>\\n     <td>\\n      ENGLISH\\n     </td>\\n    </tr>\\n    <tr>\\n     <th class=\"fixSize\" scope=\"row\">\\n      Language Level\\n     </th>\\n     <td>\\n      Excellent\\n     </td>\\n    </tr>\\n   </tbody>\\n  </table>\\n </body>\\n</html>',\n",
        " u'<html>\\n <body>\\n  <table cellpadding=\"0\" cellspacing=\"0\" summary=\"Required Languages\">\\n   <caption>\\n    Required Languages\\n   </caption>\\n   <tbody>\\n    <tr>\\n     <th class=\"fixSize\" scope=\"row\">\\n      Language\\n     </th>\\n     <td>\\n      ENGLISH\\n     </td>\\n    </tr>\\n    <tr>\\n     <th class=\"fixSize\" scope=\"row\">\\n      Language Level\\n     </th>\\n     <td>\\n      Excellent\\n     </td>\\n    </tr>\\n   </tbody>\\n  </table>\\n </body>\\n</html>',\n",
        " u'<html>\\n <body>\\n  <table cellpadding=\"0\" cellspacing=\"0\" summary=\"Required Languages\">\\n   <caption>\\n    Required Languages\\n   </caption>\\n   <tbody>\\n    <tr>\\n     <th class=\"fixSize\" scope=\"row\">\\n      Language\\n     </th>\\n     <td>\\n      ENGLISH\\n     </td>\\n    </tr>\\n    <tr>\\n     <th class=\"fixSize\" scope=\"row\">\\n      Language Level\\n     </th>\\n     <td>\\n      Excellent\\n     </td>\\n    </tr>\\n   </tbody>\\n  </table>\\n </body>\\n</html>',\n",
        " u'<html>\\n <body>\\n  <table cellpadding=\"0\" cellspacing=\"0\" summary=\"Required Languages\">\\n   <caption>\\n    Required Languages\\n   </caption>\\n   <tbody>\\n    <tr>\\n     <th class=\"fixSize\" scope=\"row\">\\n      Language\\n     </th>\\n     <td>\\n      ENGLISH\\n     </td>\\n    </tr>\\n    <tr>\\n     <th class=\"fixSize\" scope=\"row\">\\n      Language Level\\n     </th>\\n     <td>\\n      Excellent\\n     </td>\\n    </tr>\\n   </tbody>\\n  </table>\\n </body>\\n</html>',\n",
        " u'<html>\\n <body>\\n  <table cellpadding=\"0\" cellspacing=\"0\" summary=\"Required Research Experiences\">\\n   <caption>\\n    Required Research Experiences\\n   </caption>\\n   <tbody>\\n    <tr>\\n     <th class=\"fixSize\" scope=\"row\">\\n      Main Research Field\\n     </th>\\n     <td>\\n      Chemistry\\n     </td>\\n    </tr>\\n    <tr>\\n     <th class=\"fixSize\" scope=\"row\">\\n      Sub Research Field\\n     </th>\\n     <td>\\n      Physical chemistry\\n     </td>\\n    </tr>\\n   </tbody>\\n  </table>\\n </body>\\n</html>',\n",
        " u'<html>\\n <body>\\n  <table cellpadding=\"0\" cellspacing=\"0\" summary=\"Required Languages\">\\n   <caption>\\n    Required Languages\\n   </caption>\\n   <tbody>\\n    <tr>\\n     <th class=\"fixSize\" scope=\"row\">\\n      Language\\n     </th>\\n     <td>\\n      ENGLISH\\n     </td>\\n    </tr>\\n    <tr>\\n     <th class=\"fixSize\" scope=\"row\">\\n      Language Level\\n     </th>\\n     <td>\\n      Good\\n     </td>\\n    </tr>\\n   </tbody>\\n  </table>\\n </body>\\n</html>',\n",
        " u'<html>\\n <body>\\n  <p>\\n   To apply, mail the Necessary Documents (Cover letter, Curriculum Vitae, Legible copies of degrees and Contact details for references) mentioning as subject \\u201cApplication for the call of interest with reference number 2552/23-09-2014\" to the following address: secretariat@bioacademy.gr.\\n  </p>\\n </body>\\n</html>',\n",
        " u'<html>\\n <body>\\n  <table cellpadding=\"0\" cellspacing=\"0\" summary=\"Required Languages\">\\n   <caption>\\n    Required Languages\\n   </caption>\\n   <tbody>\\n    <tr>\\n     <th class=\"fixSize\" scope=\"row\">\\n      Language\\n     </th>\\n     <td>\\n      ENGLISH\\n     </td>\\n    </tr>\\n    <tr>\\n     <th class=\"fixSize\" scope=\"row\">\\n      Language Level\\n     </th>\\n     <td>\\n      Excellent\\n     </td>\\n    </tr>\\n   </tbody>\\n  </table>\\n </body>\\n</html>',\n",
        " u'<html>\\n <body>\\n  <table cellpadding=\"0\" cellspacing=\"0\" summary=\"Required Languages\">\\n   <caption>\\n    Required Languages\\n   </caption>\\n   <tbody>\\n    <tr>\\n     <th class=\"fixSize\" scope=\"row\">\\n      Language\\n     </th>\\n     <td>\\n      ENGLISH\\n     </td>\\n    </tr>\\n    <tr>\\n     <th class=\"fixSize\" scope=\"row\">\\n      Language Level\\n     </th>\\n     <td>\\n      Excellent\\n     </td>\\n    </tr>\\n   </tbody>\\n  </table>\\n </body>\\n</html>',\n",
        " u'<html>\\n <body>\\n  <p>\\n   http://faculty.itu.edu.tr/mbulker/Duyuru/2478\\n  </p>\\n </body>\\n</html>',\n",
        " u'<html>\\n <body>\\n  <table cellpadding=\"0\" cellspacing=\"0\" summary=\"Required Languages\">\\n   <caption>\\n    Required Languages\\n   </caption>\\n   <tbody>\\n    <tr>\\n     <th class=\"fixSize\" scope=\"row\">\\n      Language\\n     </th>\\n     <td>\\n      ENGLISH\\n     </td>\\n    </tr>\\n    <tr>\\n     <th class=\"fixSize\" scope=\"row\">\\n      Language Level\\n     </th>\\n     <td>\\n      Excellent\\n     </td>\\n    </tr>\\n   </tbody>\\n  </table>\\n </body>\\n</html>',\n",
        " u'<html>\\n <body>\\n  <table cellpadding=\"0\" cellspacing=\"0\" summary=\"Required Languages\">\\n   <caption>\\n    Required Languages\\n   </caption>\\n   <tbody>\\n    <tr>\\n     <th class=\"fixSize\" scope=\"row\">\\n      Language\\n     </th>\\n     <td>\\n      ENGLISH\\n     </td>\\n    </tr>\\n    <tr>\\n     <th class=\"fixSize\" scope=\"row\">\\n      Language Level\\n     </th>\\n     <td>\\n      Excellent\\n     </td>\\n    </tr>\\n   </tbody>\\n  </table>\\n </body>\\n</html>',\n",
        " u'<html>\\n <body>\\n  <table cellpadding=\"0\" cellspacing=\"0\" summary=\"Required Languages\">\\n   <caption>\\n    Required Languages\\n   </caption>\\n   <tbody>\\n    <tr>\\n     <th class=\"fixSize\" scope=\"row\">\\n      Language\\n     </th>\\n     <td>\\n      ENGLISH\\n     </td>\\n    </tr>\\n    <tr>\\n     <th class=\"fixSize\" scope=\"row\">\\n      Language Level\\n     </th>\\n     <td>\\n      Excellent\\n     </td>\\n    </tr>\\n   </tbody>\\n  </table>\\n </body>\\n</html>',\n",
        " u'<html>\\n <body>\\n  <table cellpadding=\"0\" cellspacing=\"0\" summary=\"Required Languages\">\\n   <caption>\\n    Required Languages\\n   </caption>\\n   <tbody>\\n    <tr>\\n     <th class=\"fixSize\" scope=\"row\">\\n      Language\\n     </th>\\n     <td>\\n      ENGLISH\\n     </td>\\n    </tr>\\n    <tr>\\n     <th class=\"fixSize\" scope=\"row\">\\n      Language Level\\n     </th>\\n     <td>\\n      Excellent\\n     </td>\\n    </tr>\\n   </tbody>\\n  </table>\\n </body>\\n</html>',\n",
        " u'<html>\\n <body>\\n  <p>\\n   marcial@seis.es ; luciagonlope@gmail.com\\n   <br/>\\n   <br/>\\n   aidpath.es\\n  </p>\\n </body>\\n</html>',\n",
        " u'<html>\\n <body>\\n  <table cellpadding=\"0\" cellspacing=\"0\" summary=\"Required Languages\">\\n   <caption>\\n    Required Languages\\n   </caption>\\n   <tbody>\\n    <tr>\\n     <th class=\"fixSize\" scope=\"row\">\\n      Language\\n     </th>\\n     <td>\\n      ENGLISH\\n     </td>\\n    </tr>\\n    <tr>\\n     <th class=\"fixSize\" scope=\"row\">\\n      Language Level\\n     </th>\\n     <td>\\n      Good\\n     </td>\\n    </tr>\\n   </tbody>\\n  </table>\\n </body>\\n</html>',\n",
        " u'<html>\\n <body>\\n  <table cellpadding=\"0\" cellspacing=\"0\" summary=\"Required Languages\">\\n   <caption>\\n    Required Languages\\n   </caption>\\n   <tbody>\\n    <tr>\\n     <th class=\"fixSize\" scope=\"row\">\\n      Language\\n     </th>\\n     <td>\\n      ENGLISH\\n     </td>\\n    </tr>\\n    <tr>\\n     <th class=\"fixSize\" scope=\"row\">\\n      Language Level\\n     </th>\\n     <td>\\n      Good\\n     </td>\\n    </tr>\\n   </tbody>\\n  </table>\\n </body>\\n</html>',\n",
        " u'<html>\\n <body>\\n  <table cellpadding=\"0\" cellspacing=\"0\" summary=\"Required Languages\">\\n   <caption>\\n    Required Languages\\n   </caption>\\n   <tbody>\\n    <tr>\\n     <th class=\"fixSize\" scope=\"row\">\\n      Language\\n     </th>\\n     <td>\\n      ENGLISH\\n     </td>\\n    </tr>\\n    <tr>\\n     <th class=\"fixSize\" scope=\"row\">\\n      Language Level\\n     </th>\\n     <td>\\n      Good\\n     </td>\\n    </tr>\\n   </tbody>\\n  </table>\\n </body>\\n</html>',\n",
        " u'<html>\\n <body>\\n  <table cellpadding=\"0\" cellspacing=\"0\" summary=\"Required Languages\">\\n   <caption>\\n    Required Languages\\n   </caption>\\n   <tbody>\\n    <tr>\\n     <th class=\"fixSize\" scope=\"row\">\\n      Language\\n     </th>\\n     <td>\\n      ENGLISH\\n     </td>\\n    </tr>\\n    <tr>\\n     <th class=\"fixSize\" scope=\"row\">\\n      Language Level\\n     </th>\\n     <td>\\n      Good\\n     </td>\\n    </tr>\\n   </tbody>\\n  </table>\\n </body>\\n</html>',\n",
        " u'<html>\\n <body>\\n  <table cellpadding=\"0\" cellspacing=\"0\" summary=\"Required Languages\">\\n   <caption>\\n    Required Languages\\n   </caption>\\n   <tbody>\\n    <tr>\\n     <th class=\"fixSize\" scope=\"row\">\\n      Language\\n     </th>\\n     <td>\\n      ENGLISH\\n     </td>\\n    </tr>\\n    <tr>\\n     <th class=\"fixSize\" scope=\"row\">\\n      Language Level\\n     </th>\\n     <td>\\n      Good\\n     </td>\\n    </tr>\\n   </tbody>\\n  </table>\\n </body>\\n</html>',\n",
        " u'<html>\\n <body>\\n  <table cellpadding=\"0\" cellspacing=\"0\" summary=\"Required Languages\">\\n   <caption>\\n    Required Languages\\n   </caption>\\n   <tbody>\\n    <tr>\\n     <th class=\"fixSize\" scope=\"row\">\\n      Language\\n     </th>\\n     <td>\\n      ENGLISH\\n     </td>\\n    </tr>\\n    <tr>\\n     <th class=\"fixSize\" scope=\"row\">\\n      Language Level\\n     </th>\\n     <td>\\n      Good\\n     </td>\\n    </tr>\\n   </tbody>\\n  </table>\\n </body>\\n</html>',\n",
        " u'<html>\\n <body>\\n  <table cellpadding=\"0\" cellspacing=\"0\" summary=\"Required Languages\">\\n   <caption>\\n    Required Languages\\n   </caption>\\n   <tbody>\\n    <tr>\\n     <th class=\"fixSize\" scope=\"row\">\\n      Language\\n     </th>\\n     <td>\\n      ENGLISH\\n     </td>\\n    </tr>\\n    <tr>\\n     <th class=\"fixSize\" scope=\"row\">\\n      Language Level\\n     </th>\\n     <td>\\n      Good\\n     </td>\\n    </tr>\\n   </tbody>\\n  </table>\\n </body>\\n</html>',\n",
        " u'<html>\\n <body>\\n  <table cellpadding=\"0\" cellspacing=\"0\" summary=\"Required Languages\">\\n   <caption>\\n    Required Languages\\n   </caption>\\n   <tbody>\\n    <tr>\\n     <th class=\"fixSize\" scope=\"row\">\\n      Language\\n     </th>\\n     <td>\\n      ENGLISH\\n     </td>\\n    </tr>\\n    <tr>\\n     <th class=\"fixSize\" scope=\"row\">\\n      Language Level\\n     </th>\\n     <td>\\n      Good\\n     </td>\\n    </tr>\\n   </tbody>\\n  </table>\\n </body>\\n</html>',\n",
        " u'<html>\\n <body>\\n  <table cellpadding=\"0\" cellspacing=\"0\" summary=\"Required Languages\">\\n   <caption>\\n    Required Languages\\n   </caption>\\n   <tbody>\\n    <tr>\\n     <th class=\"fixSize\" scope=\"row\">\\n      Language\\n     </th>\\n     <td>\\n      ENGLISH\\n     </td>\\n    </tr>\\n    <tr>\\n     <th class=\"fixSize\" scope=\"row\">\\n      Language Level\\n     </th>\\n     <td>\\n      Good\\n     </td>\\n    </tr>\\n   </tbody>\\n  </table>\\n </body>\\n</html>',\n",
        " u'<html>\\n <body>\\n  <p>\\n   COMIQ is a European Commission funded network focused at educating Early Stage Researchers (ESR) at the PhD level within a range of advanced cooling, trapping, and control techniques with the purpose of developing cold molecular ion research beyond its present state. The aim of COMIQ is to investigate and control a variety of molecular ion processes at the very quantum limit. COMIQ will work on establishing cold molecular ions as new quantum objects for applications in quantum technology, precision measurements, and controlled chemistry. The network is highly interdisciplinary, combining quantum optics, quantum information sciences, molecular physics, and chemical physics in a novel and original fashion. We therefore invite strong candidates from all relevant disciplines to apply for a fellowship.\\n   <br/>\\n   <br/>\\n   PhD research project\\n   <br/>\\n   The successful candidate will carry out experiments where a single, trapped ion is immersed into a Bose-Einstein condensate of neutral atoms. The goal of this PhD work is to study on the quantum level how to control chemical reactions of the ion and atoms and to create cold molecular ions in well-defined quantum states. Obtaining the full quantum mechanical control over a chemical reaction holds a key for future applications in quantum information technology, quantum chemistry and complex quantum dynamics. The position also offers exchange between members of the international training network and attendance at workshops. Further information on the research of the group and the project are available at the Hecker Denschlag group website and the COMIQ website.\\n   <br/>\\n   <br/>\\n   Eligibility Criteria\\n   <br/>\\n   The positions are open to all nationalities. The candidate may already have up to 4 years of research experience after obtaining the Masters degree. The researcher must not have resided or carried out his/her main activity (work, studies, etc.) in Germany for more than 12 months in the 3 years immediately prior to his/her recruitment. Short stays, such as holidays, are not taken into account.\\n  </p>\\n </body>\\n</html>',\n",
        " u'<html>\\n <body>\\n  <table cellpadding=\"0\" cellspacing=\"0\" summary=\"Required Research Experiences\">\\n   <caption>\\n    Required Research Experiences\\n   </caption>\\n   <tbody>\\n    <tr>\\n     <th class=\"fixSize\" scope=\"row\">\\n      Main Research Field\\n     </th>\\n     <td>\\n      Physics\\n     </td>\\n    </tr>\\n    <tr>\\n     <th class=\"fixSize\" scope=\"row\">\\n      Sub Research Field\\n     </th>\\n     <td>\\n      Optics\\n     </td>\\n    </tr>\\n   </tbody>\\n  </table>\\n </body>\\n</html>',\n",
        " u'<html>\\n <body>\\n  <table cellpadding=\"0\" cellspacing=\"0\" summary=\"Required Languages\">\\n   <caption>\\n    Required Languages\\n   </caption>\\n   <tbody>\\n    <tr>\\n     <th class=\"fixSize\" scope=\"row\">\\n      Language\\n     </th>\\n     <td>\\n      ENGLISH\\n     </td>\\n    </tr>\\n    <tr>\\n     <th class=\"fixSize\" scope=\"row\">\\n      Language Level\\n     </th>\\n     <td>\\n      Good\\n     </td>\\n    </tr>\\n   </tbody>\\n  </table>\\n </body>\\n</html>',\n",
        " u'<html>\\n <body>\\n  <table cellpadding=\"0\" cellspacing=\"0\" summary=\"Required Languages\">\\n   <caption>\\n    Required Languages\\n   </caption>\\n   <tbody>\\n    <tr>\\n     <th class=\"fixSize\" scope=\"row\">\\n      Language\\n     </th>\\n     <td>\\n      ENGLISH\\n     </td>\\n    </tr>\\n    <tr>\\n     <th class=\"fixSize\" scope=\"row\">\\n      Language Level\\n     </th>\\n     <td>\\n      Good\\n     </td>\\n    </tr>\\n   </tbody>\\n  </table>\\n </body>\\n</html>',\n",
        " u'<html>\\n <body>\\n  <table cellpadding=\"0\" cellspacing=\"0\" summary=\"Required Languages\">\\n   <caption>\\n    Required Languages\\n   </caption>\\n   <tbody>\\n    <tr>\\n     <th class=\"fixSize\" scope=\"row\">\\n      Language\\n     </th>\\n     <td>\\n      ENGLISH\\n     </td>\\n    </tr>\\n    <tr>\\n     <th class=\"fixSize\" scope=\"row\">\\n      Language Level\\n     </th>\\n     <td>\\n      Good\\n     </td>\\n    </tr>\\n   </tbody>\\n  </table>\\n </body>\\n</html>']"
       ]
      }
     ],
     "prompt_number": 34
    },
    {
     "cell_type": "code",
     "collapsed": false,
     "input": [
      "print listOfJobDesc"
     ],
     "language": "python",
     "metadata": {},
     "outputs": [
      {
       "output_type": "stream",
       "stream": "stdout",
       "text": [
        "['desc_formatted', 'desc_formatted', 'desc_formatted', 'desc_formatted', 'desc_formatted', 'desc_formatted', 'desc_formatted', 'desc_formatted', 'desc_formatted', 'desc_formatted', 'desc_formatted', 'desc_formatted', 'desc_formatted', 'desc_formatted', 'desc_formatted', 'desc_formatted', 'desc_formatted', 'desc_formatted', 'desc_formatted', 'desc_formatted', 'desc_formatted', 'desc_formatted', 'desc_formatted', 'desc_formatted', 'desc_formatted', 'desc_formatted', 'desc_formatted', 'desc_formatted', 'desc_formatted', 'desc_formatted', 'desc_formatted', 'desc_formatted', 'desc_formatted', 'desc_formatted', 'desc_formatted', 'desc_formatted', 'desc_formatted', 'desc_formatted', u'<html>\\n <body>\\n  <p>\\n   Detailed job description will be soon available and advertised on\\n   <br/>\\n   www.findaphd.com\\n   <br/>\\n   Interested candidates are strongly advised to contact Prof Resmini prior to applying\\n  </p>\\n </body>\\n</html>', u'<html>\\n <body>\\n  <p>\\n   High-throughput screening of stem cells is instrumental for biological research and discovery of new drugs. However, current methods for high-throughput cell screenings are limited and expensive. Screening of single cells is especially challenging.\\n   <br/>\\n   Recently we demonstrated that superhydrophobic-superhydrophilic microarrays can be used to create ultra high-density patterns of microdroplets (DropletMicroarrays). This method has the potential to become a new platform for ultra high-throughput screening of live cells and could allow hundreds of thousands of cell experiments to be performed in parallel using a single chip. Defined locations of isolated droplet microreservoirs on such chips will enable spatial indexing, time-lapse measurements and screening of single cells.\\n   <br/>\\n   The goal of this PhD project is to exploit the ability to perform ultra high-throughput screening of single cells in thousands of droplet microreservoirs. A range of important biological questions can be tackled using this novel technology. Therefore, creativity, scientific excellence, the ability to work in a highly interdisciplinary team will be the main qualities for a candidate for this position.\\n   <br/>\\n   We are looking for innovative, determined and ambitious students with many ideas. Once accepted in the group, the candidate will get access to all necessary equipment and consumables to work on the project. Office and lab space as well as access to the excellent infrastructure of the KIT will be provided. In addition, all students will be enrolled in the International Biointerfaces Graduate School at the KIT.\\n   <br/>\\n   Applications (CV and a cover letter explaining why you qualify for this project) should be sent to info@levkingroup.com indicating \\u201cPhD-cell screening\\u201d in the subject.\\n   <br/>\\n   www.levkingroup.com\\n  </p>\\n </body>\\n</html>', u'<html>\\n <body>\\n  <table cellpadding=\"0\" cellspacing=\"0\" summary=\"Required Research Experiences\">\\n   <caption>\\n    Required Research Experiences\\n   </caption>\\n   <tbody>\\n    <tr>\\n     <th class=\"fixSize\" scope=\"row\">\\n      Main Research Field\\n     </th>\\n     <td>\\n      Agricultural sciences\\n     </td>\\n    </tr>\\n    <tr>\\n     <th class=\"fixSize\" scope=\"row\">\\n      Sub Research Field\\n     </th>\\n     <td>\\n      Agricultural products\\n     </td>\\n    </tr>\\n   </tbody>\\n  </table>\\n </body>\\n</html>', u'<html>\\n <body>\\n  <table cellpadding=\"0\" cellspacing=\"0\" summary=\"Required Research Experiences\">\\n   <caption>\\n    Required Research Experiences\\n   </caption>\\n   <tbody>\\n   </tbody>\\n  </table>\\n </body>\\n</html>', u'<html>\\n <body>\\n  <table cellpadding=\"0\" cellspacing=\"0\" summary=\"Required Research Experiences\">\\n   <caption>\\n    Required Research Experiences\\n   </caption>\\n   <tbody>\\n   </tbody>\\n  </table>\\n </body>\\n</html>', u'<html>\\n <body>\\n  <table cellpadding=\"0\" cellspacing=\"0\" summary=\"Required Research Experiences\">\\n   <caption>\\n    Required Research Experiences\\n   </caption>\\n   <tbody>\\n   </tbody>\\n  </table>\\n </body>\\n</html>', u'<html>\\n <body>\\n  <p>\\n   The envisaged starting date is january 2015-february 2015\\n  </p>\\n </body>\\n</html>', u'<html>\\n <body>\\n  <p>\\n   Informal enquiries should be directed to Mr. Bastian Piepers Bastian.Piepers@barco.com\\n   <br/>\\n   <br/>\\n   http://www.barco.com/nl/markets/healthcare\\n  </p>\\n </body>\\n</html>', u'<html>\\n <body>\\n  <table cellpadding=\"0\" cellspacing=\"0\" summary=\"Required Languages\">\\n   <caption>\\n    Required Languages\\n   </caption>\\n   <tbody>\\n    <tr>\\n     <th class=\"fixSize\" scope=\"row\">\\n      Language\\n     </th>\\n     <td>\\n      ENGLISH\\n     </td>\\n    </tr>\\n    <tr>\\n     <th class=\"fixSize\" scope=\"row\">\\n      Language Level\\n     </th>\\n     <td>\\n      Excellent\\n     </td>\\n    </tr>\\n   </tbody>\\n  </table>\\n </body>\\n</html>', u'<html>\\n <body>\\n  <table cellpadding=\"0\" cellspacing=\"0\" summary=\"Required Languages\">\\n   <caption>\\n    Required Languages\\n   </caption>\\n   <tbody>\\n    <tr>\\n     <th class=\"fixSize\" scope=\"row\">\\n      Language\\n     </th>\\n     <td>\\n      ENGLISH\\n     </td>\\n    </tr>\\n    <tr>\\n     <th class=\"fixSize\" scope=\"row\">\\n      Language Level\\n     </th>\\n     <td>\\n      Excellent\\n     </td>\\n    </tr>\\n   </tbody>\\n  </table>\\n </body>\\n</html>', u'<html>\\n <body>\\n  <table cellpadding=\"0\" cellspacing=\"0\" summary=\"Required Languages\">\\n   <caption>\\n    Required Languages\\n   </caption>\\n   <tbody>\\n    <tr>\\n     <th class=\"fixSize\" scope=\"row\">\\n      Language\\n     </th>\\n     <td>\\n      ENGLISH\\n     </td>\\n    </tr>\\n    <tr>\\n     <th class=\"fixSize\" scope=\"row\">\\n      Language Level\\n     </th>\\n     <td>\\n      Excellent\\n     </td>\\n    </tr>\\n   </tbody>\\n  </table>\\n </body>\\n</html>', u'<html>\\n <body>\\n  <table cellpadding=\"0\" cellspacing=\"0\" summary=\"Required Languages\">\\n   <caption>\\n    Required Languages\\n   </caption>\\n   <tbody>\\n    <tr>\\n     <th class=\"fixSize\" scope=\"row\">\\n      Language\\n     </th>\\n     <td>\\n      ENGLISH\\n     </td>\\n    </tr>\\n    <tr>\\n     <th class=\"fixSize\" scope=\"row\">\\n      Language Level\\n     </th>\\n     <td>\\n      Excellent\\n     </td>\\n    </tr>\\n   </tbody>\\n  </table>\\n </body>\\n</html>', u'<html>\\n <body>\\n  <table cellpadding=\"0\" cellspacing=\"0\" summary=\"Required Languages\">\\n   <caption>\\n    Required Languages\\n   </caption>\\n   <tbody>\\n    <tr>\\n     <th class=\"fixSize\" scope=\"row\">\\n      Language\\n     </th>\\n     <td>\\n      ENGLISH\\n     </td>\\n    </tr>\\n    <tr>\\n     <th class=\"fixSize\" scope=\"row\">\\n      Language Level\\n     </th>\\n     <td>\\n      Excellent\\n     </td>\\n    </tr>\\n   </tbody>\\n  </table>\\n </body>\\n</html>', u'<html>\\n <body>\\n  <table cellpadding=\"0\" cellspacing=\"0\" summary=\"Required Research Experiences\">\\n   <caption>\\n    Required Research Experiences\\n   </caption>\\n   <tbody>\\n    <tr>\\n     <th class=\"fixSize\" scope=\"row\">\\n      Main Research Field\\n     </th>\\n     <td>\\n      Chemistry\\n     </td>\\n    </tr>\\n    <tr>\\n     <th class=\"fixSize\" scope=\"row\">\\n      Sub Research Field\\n     </th>\\n     <td>\\n      Physical chemistry\\n     </td>\\n    </tr>\\n   </tbody>\\n  </table>\\n </body>\\n</html>', u'<html>\\n <body>\\n  <table cellpadding=\"0\" cellspacing=\"0\" summary=\"Required Languages\">\\n   <caption>\\n    Required Languages\\n   </caption>\\n   <tbody>\\n    <tr>\\n     <th class=\"fixSize\" scope=\"row\">\\n      Language\\n     </th>\\n     <td>\\n      ENGLISH\\n     </td>\\n    </tr>\\n    <tr>\\n     <th class=\"fixSize\" scope=\"row\">\\n      Language Level\\n     </th>\\n     <td>\\n      Good\\n     </td>\\n    </tr>\\n   </tbody>\\n  </table>\\n </body>\\n</html>', u'<html>\\n <body>\\n  <p>\\n   To apply, mail the Necessary Documents (Cover letter, Curriculum Vitae, Legible copies of degrees and Contact details for references) mentioning as subject \\u201cApplication for the call of interest with reference number 2552/23-09-2014\" to the following address: secretariat@bioacademy.gr.\\n  </p>\\n </body>\\n</html>', u'<html>\\n <body>\\n  <table cellpadding=\"0\" cellspacing=\"0\" summary=\"Required Languages\">\\n   <caption>\\n    Required Languages\\n   </caption>\\n   <tbody>\\n    <tr>\\n     <th class=\"fixSize\" scope=\"row\">\\n      Language\\n     </th>\\n     <td>\\n      ENGLISH\\n     </td>\\n    </tr>\\n    <tr>\\n     <th class=\"fixSize\" scope=\"row\">\\n      Language Level\\n     </th>\\n     <td>\\n      Excellent\\n     </td>\\n    </tr>\\n   </tbody>\\n  </table>\\n </body>\\n</html>', u'<html>\\n <body>\\n  <table cellpadding=\"0\" cellspacing=\"0\" summary=\"Required Languages\">\\n   <caption>\\n    Required Languages\\n   </caption>\\n   <tbody>\\n    <tr>\\n     <th class=\"fixSize\" scope=\"row\">\\n      Language\\n     </th>\\n     <td>\\n      ENGLISH\\n     </td>\\n    </tr>\\n    <tr>\\n     <th class=\"fixSize\" scope=\"row\">\\n      Language Level\\n     </th>\\n     <td>\\n      Excellent\\n     </td>\\n    </tr>\\n   </tbody>\\n  </table>\\n </body>\\n</html>', u'<html>\\n <body>\\n  <p>\\n   http://faculty.itu.edu.tr/mbulker/Duyuru/2478\\n  </p>\\n </body>\\n</html>', u'<html>\\n <body>\\n  <table cellpadding=\"0\" cellspacing=\"0\" summary=\"Required Languages\">\\n   <caption>\\n    Required Languages\\n   </caption>\\n   <tbody>\\n    <tr>\\n     <th class=\"fixSize\" scope=\"row\">\\n      Language\\n     </th>\\n     <td>\\n      ENGLISH\\n     </td>\\n    </tr>\\n    <tr>\\n     <th class=\"fixSize\" scope=\"row\">\\n      Language Level\\n     </th>\\n     <td>\\n      Excellent\\n     </td>\\n    </tr>\\n   </tbody>\\n  </table>\\n </body>\\n</html>', u'<html>\\n <body>\\n  <table cellpadding=\"0\" cellspacing=\"0\" summary=\"Required Languages\">\\n   <caption>\\n    Required Languages\\n   </caption>\\n   <tbody>\\n    <tr>\\n     <th class=\"fixSize\" scope=\"row\">\\n      Language\\n     </th>\\n     <td>\\n      ENGLISH\\n     </td>\\n    </tr>\\n    <tr>\\n     <th class=\"fixSize\" scope=\"row\">\\n      Language Level\\n     </th>\\n     <td>\\n      Excellent\\n     </td>\\n    </tr>\\n   </tbody>\\n  </table>\\n </body>\\n</html>', u'<html>\\n <body>\\n  <table cellpadding=\"0\" cellspacing=\"0\" summary=\"Required Languages\">\\n   <caption>\\n    Required Languages\\n   </caption>\\n   <tbody>\\n    <tr>\\n     <th class=\"fixSize\" scope=\"row\">\\n      Language\\n     </th>\\n     <td>\\n      ENGLISH\\n     </td>\\n    </tr>\\n    <tr>\\n     <th class=\"fixSize\" scope=\"row\">\\n      Language Level\\n     </th>\\n     <td>\\n      Excellent\\n     </td>\\n    </tr>\\n   </tbody>\\n  </table>\\n </body>\\n</html>', u'<html>\\n <body>\\n  <table cellpadding=\"0\" cellspacing=\"0\" summary=\"Required Languages\">\\n   <caption>\\n    Required Languages\\n   </caption>\\n   <tbody>\\n    <tr>\\n     <th class=\"fixSize\" scope=\"row\">\\n      Language\\n     </th>\\n     <td>\\n      ENGLISH\\n     </td>\\n    </tr>\\n    <tr>\\n     <th class=\"fixSize\" scope=\"row\">\\n      Language Level\\n     </th>\\n     <td>\\n      Excellent\\n     </td>\\n    </tr>\\n   </tbody>\\n  </table>\\n </body>\\n</html>', u'<html>\\n <body>\\n  <p>\\n   marcial@seis.es ; luciagonlope@gmail.com\\n   <br/>\\n   <br/>\\n   aidpath.es\\n  </p>\\n </body>\\n</html>', u'<html>\\n <body>\\n  <table cellpadding=\"0\" cellspacing=\"0\" summary=\"Required Languages\">\\n   <caption>\\n    Required Languages\\n   </caption>\\n   <tbody>\\n    <tr>\\n     <th class=\"fixSize\" scope=\"row\">\\n      Language\\n     </th>\\n     <td>\\n      ENGLISH\\n     </td>\\n    </tr>\\n    <tr>\\n     <th class=\"fixSize\" scope=\"row\">\\n      Language Level\\n     </th>\\n     <td>\\n      Good\\n     </td>\\n    </tr>\\n   </tbody>\\n  </table>\\n </body>\\n</html>', u'<html>\\n <body>\\n  <table cellpadding=\"0\" cellspacing=\"0\" summary=\"Required Languages\">\\n   <caption>\\n    Required Languages\\n   </caption>\\n   <tbody>\\n    <tr>\\n     <th class=\"fixSize\" scope=\"row\">\\n      Language\\n     </th>\\n     <td>\\n      ENGLISH\\n     </td>\\n    </tr>\\n    <tr>\\n     <th class=\"fixSize\" scope=\"row\">\\n      Language Level\\n     </th>\\n     <td>\\n      Good\\n     </td>\\n    </tr>\\n   </tbody>\\n  </table>\\n </body>\\n</html>', u'<html>\\n <body>\\n  <table cellpadding=\"0\" cellspacing=\"0\" summary=\"Required Languages\">\\n   <caption>\\n    Required Languages\\n   </caption>\\n   <tbody>\\n    <tr>\\n     <th class=\"fixSize\" scope=\"row\">\\n      Language\\n     </th>\\n     <td>\\n      ENGLISH\\n     </td>\\n    </tr>\\n    <tr>\\n     <th class=\"fixSize\" scope=\"row\">\\n      Language Level\\n     </th>\\n     <td>\\n      Good\\n     </td>\\n    </tr>\\n   </tbody>\\n  </table>\\n </body>\\n</html>', u'<html>\\n <body>\\n  <table cellpadding=\"0\" cellspacing=\"0\" summary=\"Required Languages\">\\n   <caption>\\n    Required Languages\\n   </caption>\\n   <tbody>\\n    <tr>\\n     <th class=\"fixSize\" scope=\"row\">\\n      Language\\n     </th>\\n     <td>\\n      ENGLISH\\n     </td>\\n    </tr>\\n    <tr>\\n     <th class=\"fixSize\" scope=\"row\">\\n      Language Level\\n     </th>\\n     <td>\\n      Good\\n     </td>\\n    </tr>\\n   </tbody>\\n  </table>\\n </body>\\n</html>', u'<html>\\n <body>\\n  <table cellpadding=\"0\" cellspacing=\"0\" summary=\"Required Languages\">\\n   <caption>\\n    Required Languages\\n   </caption>\\n   <tbody>\\n    <tr>\\n     <th class=\"fixSize\" scope=\"row\">\\n      Language\\n     </th>\\n     <td>\\n      ENGLISH\\n     </td>\\n    </tr>\\n    <tr>\\n     <th class=\"fixSize\" scope=\"row\">\\n      Language Level\\n     </th>\\n     <td>\\n      Good\\n     </td>\\n    </tr>\\n   </tbody>\\n  </table>\\n </body>\\n</html>', u'<html>\\n <body>\\n  <table cellpadding=\"0\" cellspacing=\"0\" summary=\"Required Languages\">\\n   <caption>\\n    Required Languages\\n   </caption>\\n   <tbody>\\n    <tr>\\n     <th class=\"fixSize\" scope=\"row\">\\n      Language\\n     </th>\\n     <td>\\n      ENGLISH\\n     </td>\\n    </tr>\\n    <tr>\\n     <th class=\"fixSize\" scope=\"row\">\\n      Language Level\\n     </th>\\n     <td>\\n      Good\\n     </td>\\n    </tr>\\n   </tbody>\\n  </table>\\n </body>\\n</html>', u'<html>\\n <body>\\n  <table cellpadding=\"0\" cellspacing=\"0\" summary=\"Required Languages\">\\n   <caption>\\n    Required Languages\\n   </caption>\\n   <tbody>\\n    <tr>\\n     <th class=\"fixSize\" scope=\"row\">\\n      Language\\n     </th>\\n     <td>\\n      ENGLISH\\n     </td>\\n    </tr>\\n    <tr>\\n     <th class=\"fixSize\" scope=\"row\">\\n      Language Level\\n     </th>\\n     <td>\\n      Good\\n     </td>\\n    </tr>\\n   </tbody>\\n  </table>\\n </body>\\n</html>', u'<html>\\n <body>\\n  <table cellpadding=\"0\" cellspacing=\"0\" summary=\"Required Languages\">\\n   <caption>\\n    Required Languages\\n   </caption>\\n   <tbody>\\n    <tr>\\n     <th class=\"fixSize\" scope=\"row\">\\n      Language\\n     </th>\\n     <td>\\n      ENGLISH\\n     </td>\\n    </tr>\\n    <tr>\\n     <th class=\"fixSize\" scope=\"row\">\\n      Language Level\\n     </th>\\n     <td>\\n      Good\\n     </td>\\n    </tr>\\n   </tbody>\\n  </table>\\n </body>\\n</html>', u'<html>\\n <body>\\n  <table cellpadding=\"0\" cellspacing=\"0\" summary=\"Required Languages\">\\n   <caption>\\n    Required Languages\\n   </caption>\\n   <tbody>\\n    <tr>\\n     <th class=\"fixSize\" scope=\"row\">\\n      Language\\n     </th>\\n     <td>\\n      ENGLISH\\n     </td>\\n    </tr>\\n    <tr>\\n     <th class=\"fixSize\" scope=\"row\">\\n      Language Level\\n     </th>\\n     <td>\\n      Good\\n     </td>\\n    </tr>\\n   </tbody>\\n  </table>\\n </body>\\n</html>', u'<html>\\n <body>\\n  <p>\\n   COMIQ is a European Commission funded network focused at educating Early Stage Researchers (ESR) at the PhD level within a range of advanced cooling, trapping, and control techniques with the purpose of developing cold molecular ion research beyond its present state. The aim of COMIQ is to investigate and control a variety of molecular ion processes at the very quantum limit. COMIQ will work on establishing cold molecular ions as new quantum objects for applications in quantum technology, precision measurements, and controlled chemistry. The network is highly interdisciplinary, combining quantum optics, quantum information sciences, molecular physics, and chemical physics in a novel and original fashion. We therefore invite strong candidates from all relevant disciplines to apply for a fellowship.\\n   <br/>\\n   <br/>\\n   PhD research project\\n   <br/>\\n   The successful candidate will carry out experiments where a single, trapped ion is immersed into a Bose-Einstein condensate of neutral atoms. The goal of this PhD work is to study on the quantum level how to control chemical reactions of the ion and atoms and to create cold molecular ions in well-defined quantum states. Obtaining the full quantum mechanical control over a chemical reaction holds a key for future applications in quantum information technology, quantum chemistry and complex quantum dynamics. The position also offers exchange between members of the international training network and attendance at workshops. Further information on the research of the group and the project are available at the Hecker Denschlag group website and the COMIQ website.\\n   <br/>\\n   <br/>\\n   Eligibility Criteria\\n   <br/>\\n   The positions are open to all nationalities. The candidate may already have up to 4 years of research experience after obtaining the Masters degree. The researcher must not have resided or carried out his/her main activity (work, studies, etc.) in Germany for more than 12 months in the 3 years immediately prior to his/her recruitment. Short stays, such as holidays, are not taken into account.\\n  </p>\\n </body>\\n</html>', u'<html>\\n <body>\\n  <table cellpadding=\"0\" cellspacing=\"0\" summary=\"Required Research Experiences\">\\n   <caption>\\n    Required Research Experiences\\n   </caption>\\n   <tbody>\\n    <tr>\\n     <th class=\"fixSize\" scope=\"row\">\\n      Main Research Field\\n     </th>\\n     <td>\\n      Physics\\n     </td>\\n    </tr>\\n    <tr>\\n     <th class=\"fixSize\" scope=\"row\">\\n      Sub Research Field\\n     </th>\\n     <td>\\n      Optics\\n     </td>\\n    </tr>\\n   </tbody>\\n  </table>\\n </body>\\n</html>', u'<html>\\n <body>\\n  <table cellpadding=\"0\" cellspacing=\"0\" summary=\"Required Languages\">\\n   <caption>\\n    Required Languages\\n   </caption>\\n   <tbody>\\n    <tr>\\n     <th class=\"fixSize\" scope=\"row\">\\n      Language\\n     </th>\\n     <td>\\n      ENGLISH\\n     </td>\\n    </tr>\\n    <tr>\\n     <th class=\"fixSize\" scope=\"row\">\\n      Language Level\\n     </th>\\n     <td>\\n      Good\\n     </td>\\n    </tr>\\n   </tbody>\\n  </table>\\n </body>\\n</html>', u'<html>\\n <body>\\n  <table cellpadding=\"0\" cellspacing=\"0\" summary=\"Required Languages\">\\n   <caption>\\n    Required Languages\\n   </caption>\\n   <tbody>\\n    <tr>\\n     <th class=\"fixSize\" scope=\"row\">\\n      Language\\n     </th>\\n     <td>\\n      ENGLISH\\n     </td>\\n    </tr>\\n    <tr>\\n     <th class=\"fixSize\" scope=\"row\">\\n      Language Level\\n     </th>\\n     <td>\\n      Good\\n     </td>\\n    </tr>\\n   </tbody>\\n  </table>\\n </body>\\n</html>', u'<html>\\n <body>\\n  <table cellpadding=\"0\" cellspacing=\"0\" summary=\"Required Languages\">\\n   <caption>\\n    Required Languages\\n   </caption>\\n   <tbody>\\n    <tr>\\n     <th class=\"fixSize\" scope=\"row\">\\n      Language\\n     </th>\\n     <td>\\n      ENGLISH\\n     </td>\\n    </tr>\\n    <tr>\\n     <th class=\"fixSize\" scope=\"row\">\\n      Language Level\\n     </th>\\n     <td>\\n      Good\\n     </td>\\n    </tr>\\n   </tbody>\\n  </table>\\n </body>\\n</html>']\n"
       ]
      }
     ],
     "prompt_number": 35
    },
    {
     "cell_type": "code",
     "collapsed": false,
     "input": [
      "test_url = \"http://ec.europa.eu/euraxess/index.cfm/jobs/jobDetails/33953431\"\n",
      "r = requests.get(test_url)\n",
      "soup2 = BeautifulSoup(r.content)\n",
      "\n",
      "for link in soup2.find_all(\"h2\"):\n",
      "    desc = str(link.find_next_sibling())\n",
      "#print desc\n",
      "\n",
      "soup3 = BeautifulSoup(desc).prettify()\n",
      "print soup3"
     ],
     "language": "python",
     "metadata": {},
     "outputs": [
      {
       "output_type": "stream",
       "stream": "stdout",
       "text": [
        "<html>\n",
        " <body>\n",
        "  <p>\n",
        "   High-throughput screening of stem cells is instrumental for biological research and discovery of new drugs. However, current methods for high-throughput cell screenings are limited and expensive. Screening of single cells is especially challenging.\n",
        "   <br/>\n",
        "   Recently we demonstrated that superhydrophobic-superhydrophilic microarrays can be used to create ultra high-density patterns of microdroplets (DropletMicroarrays). This method has the potential to become a new platform for ultra high-throughput screening of live cells and could allow hundreds of thousands of cell experiments to be performed in parallel using a single chip. Defined locations of isolated droplet microreservoirs on such chips will enable spatial indexing, time-lapse measurements and screening of single cells.\n",
        "   <br/>\n",
        "   The goal of this PhD project is to exploit the ability to perform ultra high-throughput screening of single cells in thousands of droplet microreservoirs. A range of important biological questions can be tackled using this novel technology. Therefore, creativity, scientific excellence, the ability to work in a highly interdisciplinary team will be the main qualities for a candidate for this position.\n",
        "   <br/>\n",
        "   We are looking for innovative, determined and ambitious students with many ideas. Once accepted in the group, the candidate will get access to all necessary equipment and consumables to work on the project. Office and lab space as well as access to the excellent infrastructure of the KIT will be provided. In addition, all students will be enrolled in the International Biointerfaces Graduate School at the KIT.\n",
        "   <br/>\n",
        "   Applications (CV and a cover letter explaining why you qualify for this project) should be sent to info@levkingroup.com indicating \u201cPhD-cell screening\u201d in the subject.\n",
        "   <br/>\n",
        "   www.levkingroup.com\n",
        "  </p>\n",
        " </body>\n",
        "</html>\n"
       ]
      }
     ],
     "prompt_number": 2
    },
    {
     "cell_type": "code",
     "collapsed": false,
     "input": [
      "listOfTags = [\"<html>\", \"</html>\", \"<body>\",\"</body>\", \"<p>\", \"</p>\",\"<br/>\"]\n",
      "#soup4 = soup3.replace('<br/>', ' ')\n",
      "def replace_func(string, old, new):\n",
      "    return string.replace(old,new)\n",
      "def remove_tags(soup, listOfTags):\n",
      "    description = soup\n",
      "    for tag in listOfTags:\n",
      "        temp = temp.replace(tag,'')\n",
      "    return description.strip()\n",
      "    \n",
      "remove_tags(soup3,listOfTags)"
     ],
     "language": "python",
     "metadata": {},
     "outputs": [
      {
       "output_type": "stream",
       "stream": "stdout",
       "text": [
        "High-throughput screening of stem cells is instrumental for biological research and discovery of new drugs. However, current methods for high-throughput cell screenings are limited and expensive. Screening of single cells is especially challenging.\n",
        "   \n",
        "   Recently we demonstrated that superhydrophobic-superhydrophilic microarrays can be used to create ultra high-density patterns of microdroplets (DropletMicroarrays). This method has the potential to become a new platform for ultra high-throughput screening of live cells and could allow hundreds of thousands of cell experiments to be performed in parallel using a single chip. Defined locations of isolated droplet microreservoirs on such chips will enable spatial indexing, time-lapse measurements and screening of single cells.\n",
        "   \n",
        "   The goal of this PhD project is to exploit the ability to perform ultra high-throughput screening of single cells in thousands of droplet microreservoirs. A range of important biological questions can be tackled using this novel technology. Therefore, creativity, scientific excellence, the ability to work in a highly interdisciplinary team will be the main qualities for a candidate for this position.\n",
        "   \n",
        "   We are looking for innovative, determined and ambitious students with many ideas. Once accepted in the group, the candidate will get access to all necessary equipment and consumables to work on the project. Office and lab space as well as access to the excellent infrastructure of the KIT will be provided. In addition, all students will be enrolled in the International Biointerfaces Graduate School at the KIT.\n",
        "   \n",
        "   Applications (CV and a cover letter explaining why you qualify for this project) should be sent to info@levkingroup.com indicating \u201cPhD-cell screening\u201d in the subject.\n",
        "   \n",
        "   www.levkingroup.com\n"
       ]
      },
      {
       "metadata": {},
       "output_type": "pyout",
       "prompt_number": 8,
       "text": [
        "u'High-throughput screening of stem cells is instrumental for biological research and discovery of new drugs. However, current methods for high-throughput cell screenings are limited and expensive. Screening of single cells is especially challenging.\\n   \\n   Recently we demonstrated that superhydrophobic-superhydrophilic microarrays can be used to create ultra high-density patterns of microdroplets (DropletMicroarrays). This method has the potential to become a new platform for ultra high-throughput screening of live cells and could allow hundreds of thousands of cell experiments to be performed in parallel using a single chip. Defined locations of isolated droplet microreservoirs on such chips will enable spatial indexing, time-lapse measurements and screening of single cells.\\n   \\n   The goal of this PhD project is to exploit the ability to perform ultra high-throughput screening of single cells in thousands of droplet microreservoirs. A range of important biological questions can be tackled using this novel technology. Therefore, creativity, scientific excellence, the ability to work in a highly interdisciplinary team will be the main qualities for a candidate for this position.\\n   \\n   We are looking for innovative, determined and ambitious students with many ideas. Once accepted in the group, the candidate will get access to all necessary equipment and consumables to work on the project. Office and lab space as well as access to the excellent infrastructure of the KIT will be provided. In addition, all students will be enrolled in the International Biointerfaces Graduate School at the KIT.\\n   \\n   Applications (CV and a cover letter explaining why you qualify for this project) should be sent to info@levkingroup.com indicating \\u201cPhD-cell screening\\u201d in the subject.\\n   \\n   www.levkingroup.com'"
       ]
      }
     ],
     "prompt_number": 8
    },
    {
     "cell_type": "code",
     "collapsed": false,
     "input": [
      "get_links(url)"
     ],
     "language": "python",
     "metadata": {},
     "outputs": [
      {
       "output_type": "stream",
       "stream": "stdout",
       "text": [
        "http://ec.europa.eu/euraxess/index.cfm/jobs/jobDetails/33953923 Marie Curie Early Stage Researcher - PhD Studentships (THREE positions available)\n",
        "http://ec.europa.eu/euraxess/index.cfm/jobs/jobDetails/33953431 PhD position Biology\n",
        "http://ec.europa.eu/euraxess/index.cfm/jobs/jobDetails/33953422 PhD - Marie Curie Fellow in Robotics (m/f)\n",
        "http://ec.europa.eu/euraxess/index.cfm/jobs/jobDetails/33953395 PhD Position in Microelectronics\n",
        "http://ec.europa.eu/euraxess/index.cfm/jobs/jobDetails/33953394 PhD Position in Micro-electronics\n",
        "http://ec.europa.eu/euraxess/index.cfm/jobs/jobDetails/33953393 PhD Position in Microelectronics\n",
        "http://ec.europa.eu/euraxess/index.cfm/jobs/jobDetails/33953106 PhD position in PDE or calculus of variation\n",
        "http://ec.europa.eu/euraxess/index.cfm/jobs/jobDetails/33952801 Digital Pathology - Biomedical Engineering - Computer Science. PhD Full Time under Marie Curie IAPP Action-AIDPATH Project, BARCO (BE)\n",
        "http://ec.europa.eu/euraxess/index.cfm/jobs/jobDetails/33952328 PhD position available - Synthesis of 2D semiconductor colloidal nanostructures\n",
        "http://ec.europa.eu/euraxess/index.cfm/jobs/jobDetails/33952327 PhD position available -Phonsi\n",
        "http://ec.europa.eu/euraxess/index.cfm/jobs/jobDetails/33952326 PhD position available  Smart Nanocrystal-Matrix Composites\n",
        "http://ec.europa.eu/euraxess/index.cfm/jobs/jobDetails/33952324 PhD position available  Nanostructured 2-D semiconductors based on self-assembly of PbX or MPbX3 perovskite nanocrystals, for opto-electronic applications\n",
        "http://ec.europa.eu/euraxess/index.cfm/jobs/jobDetails/33952323 PhD position - Towards photochemically stable and bright single quantum dots of III-V compounds\n",
        "http://ec.europa.eu/euraxess/index.cfm/jobs/jobDetails/33952319 PhD Position - Quantum Dots for nearly tresholdless gain\n",
        "http://ec.europa.eu/euraxess/index.cfm/jobs/jobDetails/33951923 Microwave NanoTechnology PhD researcher position\n",
        "http://ec.europa.eu/euraxess/index.cfm/jobs/jobDetails/33950928 One (1) PhD Candidate Position (Ref. Number.: 2552)\n",
        "http://ec.europa.eu/euraxess/index.cfm/jobs/jobDetails/33950913 PhD Position in Computer Science (Cloud Computing)\n",
        "http://ec.europa.eu/euraxess/index.cfm/jobs/jobDetails/33949366 PhD on Immunoregulation in the Pathogenesis and Resolution\n",
        "http://ec.europa.eu/euraxess/index.cfm/jobs/jobDetails/33948327 PhD Position in Modeling Soil-Structure Interaction\n",
        "http://ec.europa.eu/euraxess/index.cfm/jobs/jobDetails/33948189 PhD Position in Computer Science (Cloud Computing)\n",
        "http://ec.europa.eu/euraxess/index.cfm/jobs/jobDetails/33948168 PhD Position in Computer Science (Cloud Computing)\n",
        "http://ec.europa.eu/euraxess/index.cfm/jobs/jobDetails/33948040 PhD Position in Computer Science (Cloud Computing)\n",
        "http://ec.europa.eu/euraxess/index.cfm/jobs/jobDetails/33948038 PhD Position in Computer Science (Datacenter Networking)\n",
        "http://ec.europa.eu/euraxess/index.cfm/jobs/jobDetails/33941161 Digital Pathology - Anatomical Pathology PhD under Marie Curie A ction IAPP Project. Medical, Biological, Pharmacological Sciences.\n",
        "http://ec.europa.eu/euraxess/index.cfm/jobs/jobDetails/33939410 PhD position (Early Stage Researcher) \"ESR1\" for research project \"SIMDALEE2\" (Sources, Interaction with Matter, Detection and Analysis of Low Energy Electrons)\n",
        "http://ec.europa.eu/euraxess/index.cfm/jobs/jobDetails/33927821 PhD position (Early Stage Researcher) \"ESR10\" for research project \"SIMDALEE2\" (Sources, Interaction with Matter, Detection and Analysis of Low Energy Electrons)\n",
        "http://ec.europa.eu/euraxess/index.cfm/jobs/jobDetails/33927818 PhD position (Early Stage Researcher) \"ESR9\" for research project \"SIMDALEE2\" (Sources, Interaction with Matter, Detection and Analysis of Low Energy Electrons)\n",
        "http://ec.europa.eu/euraxess/index.cfm/jobs/jobDetails/33927816 PhD position (Early Stage Researcher) \"ESR8\" for research project \"SIMDALEE2\" (Sources, Interaction with Matter, Detection and Analysis of Low Energy Electrons)\n",
        "http://ec.europa.eu/euraxess/index.cfm/jobs/jobDetails/33927802 PhD position (Early Stage Researcher) \"ESR7\" for research project \"SIMDALEE2\" (Sources, Interaction with Matter, Detection and Analysis of Low Energy Electrons)\n",
        "http://ec.europa.eu/euraxess/index.cfm/jobs/jobDetails/33927271 PhD position (Early Stage Researcher) \"ESR6\" for research project \"SIMDALEE2\" (Sources, Interaction with Matter, Detection and Analysis of Low Energy Electrons)\n",
        "http://ec.europa.eu/euraxess/index.cfm/jobs/jobDetails/33927255 PhD position (Early Stage Researcher) \"ESR5\" for research project \"SIMDALEE2\" (Sources, Interaction with Matter, Detection and Analysis of Low Energy Electrons)\n",
        "http://ec.europa.eu/euraxess/index.cfm/jobs/jobDetails/33927221 PhD position (Early Stage Researcher) \"ESR4\" for research project \"SIMDALEE2\" (Sources, Interaction with Matter, Detection and Analysis of Low Energy Electrons)\n",
        "http://ec.europa.eu/euraxess/index.cfm/jobs/jobDetails/33926800 PhD position (Early Stage Researcher) \"ESR3\" for research project \"SIMDALEE2\" (Sources, Interaction with Matter, Detection and Analysis of Low Energy Electrons)\n",
        "http://ec.europa.eu/euraxess/index.cfm/jobs/jobDetails/33918182 PhD position: A single ion interacting with ultracold atoms\n",
        "http://ec.europa.eu/euraxess/index.cfm/jobs/jobDetails/33913665 PhD student (ESR in Int. Training Network): Quantum manipulation of single molecular ions and precision spectroscopy\n",
        "http://ec.europa.eu/euraxess/index.cfm/jobs/jobDetails/33913298 test PhD position (Early Stage Researcher) \"ESR1\" for research project \"SIMDALEE2\" (Sources, Interaction with Matter, Detection and Analysis of Low Energy Electrons)\n",
        "http://ec.europa.eu/euraxess/index.cfm/jobs/jobDetails/33913271 PhD position (Early Stage Researcher) \"ESR2\" for research project \"SIMDALEE2\" (Sources, Interaction with Matter, Detection and Analysis of Low Energy Electrons)\n"
       ]
      }
     ],
     "prompt_number": 16
    },
    {
     "cell_type": "code",
     "collapsed": false,
     "input": [
      "print list_of_urls"
     ],
     "language": "python",
     "metadata": {},
     "outputs": [
      {
       "output_type": "stream",
       "stream": "stdout",
       "text": [
        "['http://ec.europa.eu/euraxess/index.cfm/jobs/jobDetails/33953923', 'http://ec.europa.eu/euraxess/index.cfm/jobs/jobDetails/33953431', 'http://ec.europa.eu/euraxess/index.cfm/jobs/jobDetails/33953422', 'http://ec.europa.eu/euraxess/index.cfm/jobs/jobDetails/33953395', 'http://ec.europa.eu/euraxess/index.cfm/jobs/jobDetails/33953394', 'http://ec.europa.eu/euraxess/index.cfm/jobs/jobDetails/33953393', 'http://ec.europa.eu/euraxess/index.cfm/jobs/jobDetails/33953106', 'http://ec.europa.eu/euraxess/index.cfm/jobs/jobDetails/33952801', 'http://ec.europa.eu/euraxess/index.cfm/jobs/jobDetails/33952328', 'http://ec.europa.eu/euraxess/index.cfm/jobs/jobDetails/33952327', 'http://ec.europa.eu/euraxess/index.cfm/jobs/jobDetails/33952326', 'http://ec.europa.eu/euraxess/index.cfm/jobs/jobDetails/33952324', 'http://ec.europa.eu/euraxess/index.cfm/jobs/jobDetails/33952323', 'http://ec.europa.eu/euraxess/index.cfm/jobs/jobDetails/33952319', 'http://ec.europa.eu/euraxess/index.cfm/jobs/jobDetails/33951923', 'http://ec.europa.eu/euraxess/index.cfm/jobs/jobDetails/33950928', 'http://ec.europa.eu/euraxess/index.cfm/jobs/jobDetails/33950913', 'http://ec.europa.eu/euraxess/index.cfm/jobs/jobDetails/33949366', 'http://ec.europa.eu/euraxess/index.cfm/jobs/jobDetails/33948327', 'http://ec.europa.eu/euraxess/index.cfm/jobs/jobDetails/33948189', 'http://ec.europa.eu/euraxess/index.cfm/jobs/jobDetails/33948168', 'http://ec.europa.eu/euraxess/index.cfm/jobs/jobDetails/33948040', 'http://ec.europa.eu/euraxess/index.cfm/jobs/jobDetails/33948038', 'http://ec.europa.eu/euraxess/index.cfm/jobs/jobDetails/33941161', 'http://ec.europa.eu/euraxess/index.cfm/jobs/jobDetails/33939410', 'http://ec.europa.eu/euraxess/index.cfm/jobs/jobDetails/33927821', 'http://ec.europa.eu/euraxess/index.cfm/jobs/jobDetails/33927818', 'http://ec.europa.eu/euraxess/index.cfm/jobs/jobDetails/33927816', 'http://ec.europa.eu/euraxess/index.cfm/jobs/jobDetails/33927802', 'http://ec.europa.eu/euraxess/index.cfm/jobs/jobDetails/33927271', 'http://ec.europa.eu/euraxess/index.cfm/jobs/jobDetails/33927255', 'http://ec.europa.eu/euraxess/index.cfm/jobs/jobDetails/33927221', 'http://ec.europa.eu/euraxess/index.cfm/jobs/jobDetails/33926800', 'http://ec.europa.eu/euraxess/index.cfm/jobs/jobDetails/33918182', 'http://ec.europa.eu/euraxess/index.cfm/jobs/jobDetails/33913665', 'http://ec.europa.eu/euraxess/index.cfm/jobs/jobDetails/33913298', 'http://ec.europa.eu/euraxess/index.cfm/jobs/jobDetails/33913271', 'http://ec.europa.eu/euraxess/index.cfm/jobs/jobDetails/33913271']\n"
       ]
      }
     ],
     "prompt_number": 23
    },
    {
     "cell_type": "code",
     "collapsed": false,
     "input": [
      "for link in soup2.find_all(\"h2\"):\n",
      "    desc = link.find_next_sibling()\n",
      "print desc, type(desc)"
     ],
     "language": "python",
     "metadata": {},
     "outputs": [
      {
       "output_type": "stream",
       "stream": "stdout",
       "text": [
        "<p>High-throughput screening of stem cells is instrumental for biological research and discovery of new drugs. However, current methods for high-throughput cell screenings are limited and expensive. Screening of single cells is especially challenging.   <br/>\n",
        "Recently we demonstrated that superhydrophobic-superhydrophilic microarrays can be used to create ultra high-density patterns of microdroplets (DropletMicroarrays). This method has the potential to become a new platform for ultra high-throughput screening of live cells and could allow hundreds of thousands of cell experiments to be performed in parallel using a single chip. Defined locations of isolated droplet microreservoirs on such chips will enable spatial indexing, time-lapse measurements and screening of single cells.<br/>\n",
        "The goal of this PhD project is to exploit the ability to perform ultra high-throughput screening of single cells in thousands of droplet microreservoirs. A range of important biological questions can be tackled using this novel technology. Therefore, creativity, scientific excellence, the ability to work in a highly interdisciplinary team will be the main qualities for a candidate for this position.<br/>\n",
        "We are looking for innovative, determined and ambitious students with many ideas. Once accepted in the group, the candidate will get access to all necessary equipment and consumables to work on the project. Office and lab space as well as access to the excellent infrastructure of the KIT will be provided. In addition, all students will be enrolled in the International Biointerfaces Graduate School at the KIT.                              <br/>\n",
        " Applications (CV and a cover letter explaining why you qualify for this project) should be sent to info@levkingroup.com indicating \u201cPhD-cell screening\u201d in the subject.<br/>\n",
        "www.levkingroup.com</p> <class 'bs4.element.Tag'>\n"
       ]
      }
     ],
     "prompt_number": 56
    }
   ],
   "metadata": {}
  }
 ]
}